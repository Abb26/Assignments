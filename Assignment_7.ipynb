{
  "nbformat": 4,
  "nbformat_minor": 0,
  "metadata": {
    "colab": {
      "name": "Assignment 7.ipynb",
      "provenance": []
    },
    "kernelspec": {
      "name": "python3",
      "display_name": "Python 3"
    },
    "language_info": {
      "name": "python"
    }
  },
  "cells": [
    {
      "cell_type": "markdown",
      "source": [
        "#### QWhat is the name of the feature responsible for generating Regex objects?\n",
        "Ans.\n",
        "The re. compile() function returns Regex objects."
      ],
      "metadata": {
        "id": "1dC1wG-28WuT"
      }
    },
    {
      "cell_type": "markdown",
      "source": [
        "#### Q2. Why do raw strings often appear in Regex objects?\n",
        "Ans.\n",
        "According to Python docs, raw string notation (r\"text\") keeps regular expressions meaningful and confusion-free. Without it, every backslash ('\\') in a regular expression would have to be prefixed with another one to escape it."
      ],
      "metadata": {
        "id": "6BH71oab9hrN"
      }
    },
    {
      "cell_type": "markdown",
      "source": [
        "#### Q3. What is the return value of the search() method?\n",
        "Ans.\n",
        "The re.search() function takes two parameters and returns a match object if there is a match. If there is more than one match, only the first occurrence of the match will be returned. If no matches are found, the value None is returned."
      ],
      "metadata": {
        "id": "LKwX-3e_-gvO"
      }
    },
    {
      "cell_type": "code",
      "source": [
        "import re\n",
        "match = re.search('i','Ineuron FSDS', flags=re.IGNORECASE)\n",
        "print('Output:',match)\n",
        "match = re.search('X','Ineuron FSDS', flags=re.IGNORECASE)\n",
        "print('Output:',match)"
      ],
      "metadata": {
        "colab": {
          "base_uri": "https://localhost:8080/"
        },
        "id": "P0YokzD3_Qyr",
        "outputId": "e579e23a-a2b9-489e-a5ed-1c22660716a6"
      },
      "execution_count": 5,
      "outputs": [
        {
          "output_type": "stream",
          "name": "stdout",
          "text": [
            "Output: <re.Match object; span=(0, 1), match='I'>\n",
            "Output: None\n"
          ]
        }
      ]
    },
    {
      "cell_type": "markdown",
      "source": [
        "#### Q4. From a Match item, how do you get the actual strings that match the pattern?\n",
        "Ans.\n",
        "The group() method returns strings of the matched text."
      ],
      "metadata": {
        "id": "OZeJcp2w-pO1"
      }
    },
    {
      "cell_type": "code",
      "source": [
        "match = re.search('i','Ineuron FSDS', flags=re.IGNORECASE)\n",
        "print('Output:',match.group())"
      ],
      "metadata": {
        "colab": {
          "base_uri": "https://localhost:8080/"
        },
        "id": "6YM-Jwdq_sNR",
        "outputId": "93f648fb-d519-4366-b1f5-65826d74e78c"
      },
      "execution_count": 6,
      "outputs": [
        {
          "output_type": "stream",
          "name": "stdout",
          "text": [
            "Output: I\n"
          ]
        }
      ]
    },
    {
      "cell_type": "markdown",
      "source": [
        "#### Q5. In the regex which created from the r&#39;(\\d\\d\\d)-(\\d\\d\\d-\\d\\d\\d\\d)&#39;, what does group zero cover? Group 2? Group 1?\n",
        "Ans.\n",
        " In the Regex r'(\\d\\d\\d)-(\\d\\d\\d-\\d\\d\\d\\d)' the zero group covers the entire pattern match where as the first group cover (\\d\\d\\d) and the second group cover (\\d\\d\\d-\\d\\d\\d\\d)"
      ],
      "metadata": {
        "id": "MsFse2Ij_uYk"
      }
    },
    {
      "cell_type": "code",
      "source": [
        "# Example Program\n",
        "import re\n",
        "phoneNumRegex = re.compile(r'(\\d\\d\\d)-(\\d\\d\\d-\\d\\d\\d\\d)')\n",
        "mo = phoneNumRegex.search('My number is 432-222-4242.')\n",
        "print(mo.groups()) # Prints all groups in a tuple format\n",
        "print(mo.group()) # Always returns the fully matched string \n",
        "print(mo.group(1)) # Returns the first group\n",
        "print(mo.group(2)) # Returns the second group"
      ],
      "metadata": {
        "colab": {
          "base_uri": "https://localhost:8080/"
        },
        "id": "wrXnys2JAW06",
        "outputId": "f3036365-5bf9-4f14-f615-8f70307c9897"
      },
      "execution_count": 7,
      "outputs": [
        {
          "output_type": "stream",
          "name": "stdout",
          "text": [
            "('432', '222-4242')\n",
            "432-222-4242\n",
            "432\n",
            "222-4242\n"
          ]
        }
      ]
    },
    {
      "cell_type": "markdown",
      "source": [
        "#### Q6. In standard expression syntax, parentheses and intervals have distinct meanings. How can you tell a regex that you want it to fit real parentheses and periods?\n",
        "\n",
        "Ans.\n",
        "The \\. \\( and \\) escape characters in the raw string passed to re.compile() will match actual parenthesis characters."
      ],
      "metadata": {
        "id": "IqYIq2HzAd5p"
      }
    },
    {
      "cell_type": "markdown",
      "source": [
        "#### Q7. The findall() method returns a string list or a list of string tuples. What causes it to return one of the two options?\n",
        "Ans.\n",
        " If the regex has no groups, a list of strings is returned. If the regex has groups, a list of tuples of strings is returned."
      ],
      "metadata": {
        "id": "JLE01WzkBFR_"
      }
    },
    {
      "cell_type": "markdown",
      "source": [
        "#### Q8. In standard expressions, what does the | character mean?\n",
        "Ans.\n",
        " In Standard Expressions | means OR operator."
      ],
      "metadata": {
        "id": "9PUdwWakBbM3"
      }
    },
    {
      "cell_type": "markdown",
      "source": [
        "#### Q9. In regular expressions, what does the character stand for?\n",
        "Ans.\n",
        "A word character. A word character is a letter, a number, or an underscore. This set of characters may also be represented by the regex character set [a-zA-Z0-9_] \\w\\{1,\\}-\\w\\{1,}"
      ],
      "metadata": {
        "id": "7fPMqcxFButz"
      }
    },
    {
      "cell_type": "markdown",
      "source": [
        "#### Q10.In regular expressions, what is the difference between the + and * characters?\n",
        "Ans.\n",
        " the star quantifier( * ) means that the preceding expression can match zero or more times it is like {0,} while the plus quantifier( + ) indicate that the preceding expression MUST match at least one time or multiple times and it is the same as {1,} ."
      ],
      "metadata": {
        "id": "Lv6eMZ9OCUDX"
      }
    },
    {
      "cell_type": "code",
      "source": [
        "import re\n",
        "match_1 = re.search(\"Bat(wo)*man\",\"Batman returns\")\n",
        "print(match_1)\n",
        "match_2 = re.search(\"Bat(wo)+man\",\"Batman returns\")\n",
        "print(match_2)\n",
        "\n"
      ],
      "metadata": {
        "colab": {
          "base_uri": "https://localhost:8080/"
        },
        "id": "9yjhP1GuCozn",
        "outputId": "8155d953-0bcb-4421-8e9a-194b7ae63a31"
      },
      "execution_count": 8,
      "outputs": [
        {
          "output_type": "stream",
          "name": "stdout",
          "text": [
            "<re.Match object; span=(0, 6), match='Batman'>\n",
            "None\n"
          ]
        }
      ]
    },
    {
      "cell_type": "markdown",
      "source": [
        "#### Q11. What is the difference between {4} and {4,5} in regular expression?\n",
        "Ans.\n",
        "{4} means that its preceeding group should repeat 4 times. where as {4,5} means that its preceeding group should repeat mininum 4 times and maximum 5 times inclusively"
      ],
      "metadata": {
        "id": "3vzbx1adCsNL"
      }
    },
    {
      "cell_type": "markdown",
      "source": [
        "#### Q12. What do you mean by the \\d, \\w, and \\s shorthand character classes signify in regular expressions?\n",
        "Ans.\n",
        "The \\d, \\w, and \\s shorthand character classes match a single digit, word, or space character, respectively."
      ],
      "metadata": {
        "id": "HllcvwsJC6Ov"
      }
    },
    {
      "cell_type": "markdown",
      "source": [
        "#### Q13. What do means by \\D, \\W, and \\S shorthand character classes signify in regular expressions?\n",
        "Ans.\n",
        "\\W – Matches any non-alphanumeric character equivalent to [^a-zA-Z0-9_]\n",
        "\n",
        "\\D – Matches any non-digit character, this is equivalent to the set class [^0-9]\n",
        "\n",
        "\\S – Matches any non-whitespace character"
      ],
      "metadata": {
        "id": "69j9BvNTDEQr"
      }
    },
    {
      "cell_type": "markdown",
      "source": [
        "#### Q14. What is the difference between .*? and .*?\n",
        "Ans.\n",
        ".* is a Greedy mode, which returns the longest string that meets the condition. Whereas .*? is a non greedy mode which returns the shortest string that meets the condition."
      ],
      "metadata": {
        "id": "IVldUKiiDYD4"
      }
    },
    {
      "cell_type": "markdown",
      "source": [
        "#### Q15. What is the syntax for matching both numbers and lowercase letters with a character class?\n",
        "Ans.\n",
        "The Synatax is Either [a-z0-9] or [0-9a-z]"
      ],
      "metadata": {
        "id": "8tuBENZWDndA"
      }
    },
    {
      "cell_type": "markdown",
      "source": [
        "#### Q16. What is the procedure for making a normal expression in regax case insensitive?\n",
        "Ans.\n",
        "re.IGNORECASE as a flag to make a noraml expression case insensitive"
      ],
      "metadata": {
        "id": "n8uM11-FDz9m"
      }
    },
    {
      "cell_type": "markdown",
      "source": [
        "#### Q17. What does the . character normally match? What does it match if re.DOTALL is passed as 2nd argument in re.compile()?\n",
        "Ans.\n",
        " Dot . character matches everything in input except newline character .. By passing re.DOTALL as a flag to re.compile(), you can make the dot character match all characters, including the newline character."
      ],
      "metadata": {
        "id": "OcPnM3QYEGLt"
      }
    },
    {
      "cell_type": "markdown",
      "source": [
        "#### Q18. If numReg = re.compile(r&#39;\\d+&#39;), what will numRegex.sub(&#39;X&#39;, &#39;11 drummers, 10 pipers, five rings, 4 hen&#39;) return?\n",
        "Ans. The Ouput will be 'X drummers, X pipers, five rings, X hen'\n",
        "\n"
      ],
      "metadata": {
        "id": "Z0whokmIEUbz"
      }
    },
    {
      "cell_type": "code",
      "source": [
        "import re\n",
        "numReg = re.compile(r'\\d+')\n",
        "numReg.sub('X', '11 drummers, 10 pipers, five rings, 4 hen')"
      ],
      "metadata": {
        "colab": {
          "base_uri": "https://localhost:8080/",
          "height": 35
        },
        "id": "W6JCOKzwEb-b",
        "outputId": "85e15b46-d03d-48a6-88f1-113157dfdafd"
      },
      "execution_count": 10,
      "outputs": [
        {
          "output_type": "execute_result",
          "data": {
            "text/plain": [
              "'X drummers, X pipers, five rings, X hen'"
            ],
            "application/vnd.google.colaboratory.intrinsic+json": {
              "type": "string"
            }
          },
          "metadata": {},
          "execution_count": 10
        }
      ]
    },
    {
      "cell_type": "markdown",
      "source": [
        "#### Q19. What does passing re.VERBOSE as the 2nd argument to re.compile() allow to do?\n",
        "Ans.\n",
        "re.VERBOSE will allow to add whitespace and comments to string passed to re.compile()."
      ],
      "metadata": {
        "id": "N6SZiUSVEm0z"
      }
    },
    {
      "cell_type": "markdown",
      "source": [
        "#### Q20. How would you write a regex that match a number with comma for every three digits? It mustmatch the given following:\n",
        "&#39;42&#39;\n",
        "&#39;1,234&#39;\n",
        "&#39;6,368,745&#39;\n",
        "\n",
        "but not the following:\n",
        "&#39;12,34,567&#39; (which has only two digits between the commas)\n",
        "&#39;1234&#39; (which lacks commas)"
      ],
      "metadata": {
        "id": "8hW5GKcmE2O0"
      }
    },
    {
      "cell_type": "code",
      "source": [
        "import re\n",
        "pattern = r'^\\d{1,3}(,\\d{3})*$'\n",
        "pagex = re.compile(pattern)\n",
        "for ele in ['42','1,234', '6,368,745','12,34,567','1234']:\n",
        "    print('Output:',ele, '->', pagex.search(ele))"
      ],
      "metadata": {
        "colab": {
          "base_uri": "https://localhost:8080/"
        },
        "id": "X833zFAqFBg3",
        "outputId": "3c7c72a8-31f4-48d4-e4d4-f39cc5e2c82a"
      },
      "execution_count": 11,
      "outputs": [
        {
          "output_type": "stream",
          "name": "stdout",
          "text": [
            "Output: 42 -> <re.Match object; span=(0, 2), match='42'>\n",
            "Output: 1,234 -> <re.Match object; span=(0, 5), match='1,234'>\n",
            "Output: 6,368,745 -> <re.Match object; span=(0, 9), match='6,368,745'>\n",
            "Output: 12,34,567 -> None\n",
            "Output: 1234 -> None\n"
          ]
        }
      ]
    },
    {
      "cell_type": "markdown",
      "source": [
        "#### Q21. How would you write a regex that matches the full name of someone whose last name is Watanabe? You can assume that the first name that comes before it will always be one word that begins with a capital letter. The regex must match the following:\n",
        "&#39;Haruto Watanabe&#39;\n",
        "\n",
        "&#39;Alice Watanabe&#39;\n",
        "\n",
        "&#39;RoboCop Watanabe&#39;\n",
        "\n",
        "but not the following:\n",
        "\n",
        "&#39;haruto Watanabe&#39; (where the first name is not capitalized)\n",
        "\n",
        "&#39;Mr. Watanabe&#39; (where the preceding word has a nonletter character)\n",
        "\n",
        "&#39;Watanabe&#39; (which has no first name)\n",
        "\n",
        "&#39;Haruto watanabe&#39; (where Watanabe is not capitalized)"
      ],
      "metadata": {
        "id": "DAyDUQ2SFCGD"
      }
    },
    {
      "cell_type": "code",
      "source": [
        "import re\n",
        "pattern = r'[A-Z]{1}[a-z]*\\sWatanabe'\n",
        "namex = re.compile(pattern)\n",
        "for name in ['Haruto Watanabe','Alice Watanabe','RoboCop Watanabe','haruto Watanabe','Mr. Watanabe','Watanabe','Haruto watanabe']:\n",
        "    print('Output: ',name,'->',namex.search(name))"
      ],
      "metadata": {
        "colab": {
          "base_uri": "https://localhost:8080/"
        },
        "id": "4zct4j5-FNhj",
        "outputId": "0502a615-78c7-4682-b5c4-3488b76d5ed6"
      },
      "execution_count": 12,
      "outputs": [
        {
          "output_type": "stream",
          "name": "stdout",
          "text": [
            "Output:  Haruto Watanabe -> <re.Match object; span=(0, 15), match='Haruto Watanabe'>\n",
            "Output:  Alice Watanabe -> <re.Match object; span=(0, 14), match='Alice Watanabe'>\n",
            "Output:  RoboCop Watanabe -> <re.Match object; span=(4, 16), match='Cop Watanabe'>\n",
            "Output:  haruto Watanabe -> None\n",
            "Output:  Mr. Watanabe -> None\n",
            "Output:  Watanabe -> None\n",
            "Output:  Haruto watanabe -> None\n"
          ]
        }
      ]
    },
    {
      "cell_type": "markdown",
      "source": [
        "#### Q22. How would you write a regex that matches a sentence where the first word is either Alice, Bob, or Carol; the second word is either eats, pets, or throws; the third word is apples, cats, or baseballs;\n",
        "and the sentence ends with a period? This regex should be case-insensitive. It must match the following:\n",
        "&#39;Alice eats apples.&#39;\n",
        "\n",
        "&#39;Bob pets cats.&#39;\n",
        "\n",
        "&#39;Carol throws baseballs.&#39;\n",
        "\n",
        "&#39;Alice throws Apples.&#39;\n",
        "\n",
        "&#39;BOB EATS CATS.&#39;\n",
        "\n",
        "but not the following:\n",
        "\n",
        "&#39;RoboCop eats apples.&#39;\n",
        "\n",
        "&#39;ALICE THROWS FOOTBALLS.&#39;\n",
        "\n",
        "&#39;Carol eats 7 cats.&#39;"
      ],
      "metadata": {
        "id": "27ZY5Jj_FWbA"
      }
    },
    {
      "cell_type": "code",
      "source": [
        "import re\n",
        "pattern = r'(Alice|Bob|Carol)\\s(eats|pets|throws)\\s(apples|cats|baseballs)\\.'\n",
        "casex = re.compile(pattern,re.IGNORECASE)\n",
        "for ele in ['Alice eats apples.','Bob pets cats.','Carol throws baseballs.','Alice throws Apples.','BOB EATS CATS.','RoboCop eats apples.'\n",
        ",'ALICE THROWS FOOTBALLS.','Carol eats 7 cats.']:\n",
        "    print('Output: ',ele,'->',casex.search(ele))"
      ],
      "metadata": {
        "colab": {
          "base_uri": "https://localhost:8080/"
        },
        "id": "p0SJ-F8IFfpp",
        "outputId": "1d4045c2-2c4d-4e3d-b1be-fc87a6ebafcf"
      },
      "execution_count": 14,
      "outputs": [
        {
          "output_type": "stream",
          "name": "stdout",
          "text": [
            "Output:  Alice eats apples. -> <re.Match object; span=(0, 18), match='Alice eats apples.'>\n",
            "Output:  Bob pets cats. -> <re.Match object; span=(0, 14), match='Bob pets cats.'>\n",
            "Output:  Carol throws baseballs. -> <re.Match object; span=(0, 23), match='Carol throws baseballs.'>\n",
            "Output:  Alice throws Apples. -> <re.Match object; span=(0, 20), match='Alice throws Apples.'>\n",
            "Output:  BOB EATS CATS. -> <re.Match object; span=(0, 14), match='BOB EATS CATS.'>\n",
            "Output:  RoboCop eats apples. -> None\n",
            "Output:  ALICE THROWS FOOTBALLS. -> None\n",
            "Output:  Carol eats 7 cats. -> None\n"
          ]
        }
      ]
    },
    {
      "cell_type": "code",
      "source": [
        ""
      ],
      "metadata": {
        "id": "jEErpa7JFkZq"
      },
      "execution_count": null,
      "outputs": []
    }
  ]
}