{
  "nbformat": 4,
  "nbformat_minor": 0,
  "metadata": {
    "colab": {
      "name": "Assignment 6.ipynb",
      "provenance": [],
      "collapsed_sections": []
    },
    "kernelspec": {
      "name": "python3",
      "display_name": "Python 3"
    },
    "language_info": {
      "name": "python"
    }
  },
  "cells": [
    {
      "cell_type": "markdown",
      "source": [
        "#### Q1. What are escape characters, and how do you use them?\n",
        "\n",
        "Ans.\n",
        "In Python strings, the backslash \" \\ \" is a special character, also called the \"escape\" character. \n",
        "It is used in representing certain whitespace characters: \"\\t\" is a tab, \"\\n\" is a newline, and \"\\r\" is a carriage return. \n"
      ],
      "metadata": {
        "id": "iZ1a9t29EcaZ"
      }
    },
    {
      "cell_type": "markdown",
      "source": [
        ""
      ],
      "metadata": {
        "id": "eA2ZajwAUmzZ"
      }
    },
    {
      "cell_type": "markdown",
      "source": [
        "#### Q2. What do the escape characters n and t stand for?\n",
        "\n",
        "Ans.\n",
        "\"\\t\" is a tab, \"\\n\" is a newline\n"
      ],
      "metadata": {
        "id": "GZvRWQjlU9sU"
      }
    },
    {
      "cell_type": "markdown",
      "source": [
        "#### Q3. What is the way to include backslash characters in a string?\n",
        "\n",
        "Ans.\n",
        "The \\\\ escape character will represent the backslash character in a string"
      ],
      "metadata": {
        "id": "dRGsGqQ5XoGX"
      }
    },
    {
      "cell_type": "markdown",
      "source": [
        "#### Q4. The string &quot;Howl&#39;s Moving Castle&quot; is a correct value. Why isn&#39;t the single quote character in the word Howl&#39;s not escaped a problem?\n",
        "\n",
        "Ans.\n",
        "The string \"Howl's Moving Castle\" escaped the problem because it is wrapped inside double quotes. if its wrapped inside single quotes then we have to use escape character \\' to show single quote in the final output"
      ],
      "metadata": {
        "id": "X1T-qGC2YX0b"
      }
    },
    {
      "cell_type": "code",
      "source": [
        "\"Howl's Moving Castle\" "
      ],
      "metadata": {
        "colab": {
          "base_uri": "https://localhost:8080/",
          "height": 35
        },
        "id": "JoWmw24HYdbt",
        "outputId": "da0a3ba0-a0e8-4a5e-86e0-c24a77b5c136"
      },
      "execution_count": 12,
      "outputs": [
        {
          "output_type": "execute_result",
          "data": {
            "text/plain": [
              "\"Howl's Moving Castle\""
            ],
            "application/vnd.google.colaboratory.intrinsic+json": {
              "type": "string"
            }
          },
          "metadata": {},
          "execution_count": 12
        }
      ]
    },
    {
      "cell_type": "code",
      "source": [
        "'Howl's Moving Castle' "
      ],
      "metadata": {
        "colab": {
          "base_uri": "https://localhost:8080/",
          "height": 130
        },
        "id": "x9oYirInYxSd",
        "outputId": "84807a89-4a83-4124-ede4-ff49e8cca0c3"
      },
      "execution_count": 13,
      "outputs": [
        {
          "output_type": "error",
          "ename": "SyntaxError",
          "evalue": "ignored",
          "traceback": [
            "\u001b[0;36m  File \u001b[0;32m\"<ipython-input-13-e9e519a70bb6>\"\u001b[0;36m, line \u001b[0;32m1\u001b[0m\n\u001b[0;31m    'Howl's Moving Castle'\u001b[0m\n\u001b[0m          ^\u001b[0m\n\u001b[0;31mSyntaxError\u001b[0m\u001b[0;31m:\u001b[0m invalid syntax\n"
          ]
        }
      ]
    },
    {
      "cell_type": "code",
      "source": [
        "'Howl\\'s Moving Castle'"
      ],
      "metadata": {
        "colab": {
          "base_uri": "https://localhost:8080/",
          "height": 35
        },
        "id": "V3b2ZZrdY0Cm",
        "outputId": "562bfa10-9528-47ce-fc95-fa19065dfe86"
      },
      "execution_count": 14,
      "outputs": [
        {
          "output_type": "execute_result",
          "data": {
            "text/plain": [
              "\"Howl's Moving Castle\""
            ],
            "application/vnd.google.colaboratory.intrinsic+json": {
              "type": "string"
            }
          },
          "metadata": {},
          "execution_count": 14
        }
      ]
    },
    {
      "cell_type": "markdown",
      "source": [
        "#### Q5. How do you write a string of newlines if you don&#39;t want to use the n character?\n",
        "ANs.\n",
        " Multiline string allow you to use newlines in string without the \\n escape character"
      ],
      "metadata": {
        "id": "Ec9dAQNQY6zi"
      }
    },
    {
      "cell_type": "code",
      "source": [
        "a = '''Ineuron \n",
        "FSDS job gurantee program'''\n",
        "\n",
        "print(a)"
      ],
      "metadata": {
        "colab": {
          "base_uri": "https://localhost:8080/"
        },
        "id": "BGxLTvt9Z25e",
        "outputId": "2c6fa648-b9fd-4306-c970-f6e6c951bb8c"
      },
      "execution_count": 17,
      "outputs": [
        {
          "output_type": "stream",
          "name": "stdout",
          "text": [
            "Ineuron \n",
            "FSDS job gurantee program\n"
          ]
        }
      ]
    },
    {
      "cell_type": "markdown",
      "source": [
        "####Q6. What are the values of the given expressions?"
      ],
      "metadata": {
        "id": "LSEhjz2rZ_iZ"
      }
    },
    {
      "cell_type": "code",
      "source": [
        "'Hello, world!'[1]"
      ],
      "metadata": {
        "colab": {
          "base_uri": "https://localhost:8080/",
          "height": 35
        },
        "id": "J4GD3IwmaNCE",
        "outputId": "7bf61914-bbae-4283-e2a7-3cec7d6e6b1c"
      },
      "execution_count": 19,
      "outputs": [
        {
          "output_type": "execute_result",
          "data": {
            "text/plain": [
              "'e'"
            ],
            "application/vnd.google.colaboratory.intrinsic+json": {
              "type": "string"
            }
          },
          "metadata": {},
          "execution_count": 19
        }
      ]
    },
    {
      "cell_type": "code",
      "source": [
        "'Hello, world!'[0:5]"
      ],
      "metadata": {
        "colab": {
          "base_uri": "https://localhost:8080/",
          "height": 35
        },
        "id": "jWNLZMaAaOsB",
        "outputId": "1b66216c-4c98-4db6-ca48-0946ed011c5b"
      },
      "execution_count": 21,
      "outputs": [
        {
          "output_type": "execute_result",
          "data": {
            "text/plain": [
              "'Hello'"
            ],
            "application/vnd.google.colaboratory.intrinsic+json": {
              "type": "string"
            }
          },
          "metadata": {},
          "execution_count": 21
        }
      ]
    },
    {
      "cell_type": "code",
      "source": [
        "'Hello, world!'[:5]"
      ],
      "metadata": {
        "colab": {
          "base_uri": "https://localhost:8080/",
          "height": 35
        },
        "id": "37hw57eoad3x",
        "outputId": "4d6954d2-4939-4cbd-f3d6-fde7a225093f"
      },
      "execution_count": 22,
      "outputs": [
        {
          "output_type": "execute_result",
          "data": {
            "text/plain": [
              "'Hello'"
            ],
            "application/vnd.google.colaboratory.intrinsic+json": {
              "type": "string"
            }
          },
          "metadata": {},
          "execution_count": 22
        }
      ]
    },
    {
      "cell_type": "code",
      "source": [
        "'Hello, world!'[3:]"
      ],
      "metadata": {
        "colab": {
          "base_uri": "https://localhost:8080/",
          "height": 35
        },
        "id": "SMSXKZm3apu8",
        "outputId": "0b55116b-c192-43f8-9504-11ef50df1ce9"
      },
      "execution_count": 23,
      "outputs": [
        {
          "output_type": "execute_result",
          "data": {
            "text/plain": [
              "'lo, world!'"
            ],
            "application/vnd.google.colaboratory.intrinsic+json": {
              "type": "string"
            }
          },
          "metadata": {},
          "execution_count": 23
        }
      ]
    },
    {
      "cell_type": "markdown",
      "source": [
        "#### Q7. What are the values of the following expressions?"
      ],
      "metadata": {
        "id": "_f5V-5yoasab"
      }
    },
    {
      "cell_type": "code",
      "source": [
        "'Hello'.upper()"
      ],
      "metadata": {
        "colab": {
          "base_uri": "https://localhost:8080/",
          "height": 35
        },
        "id": "xXYs7cyxa4oe",
        "outputId": "3a58bb01-cb44-4bb1-ab05-b7579493380b"
      },
      "execution_count": 24,
      "outputs": [
        {
          "output_type": "execute_result",
          "data": {
            "text/plain": [
              "'HELLO'"
            ],
            "application/vnd.google.colaboratory.intrinsic+json": {
              "type": "string"
            }
          },
          "metadata": {},
          "execution_count": 24
        }
      ]
    },
    {
      "cell_type": "code",
      "source": [
        "'Hello'.upper().isupper()"
      ],
      "metadata": {
        "colab": {
          "base_uri": "https://localhost:8080/"
        },
        "id": "BUqhZeZla8nS",
        "outputId": "f77509a3-67c8-437b-e299-8f5d7d4ff41a"
      },
      "execution_count": 27,
      "outputs": [
        {
          "output_type": "execute_result",
          "data": {
            "text/plain": [
              "True"
            ]
          },
          "metadata": {},
          "execution_count": 27
        }
      ]
    },
    {
      "cell_type": "code",
      "source": [
        "'Hello'.upper().lower()"
      ],
      "metadata": {
        "colab": {
          "base_uri": "https://localhost:8080/",
          "height": 35
        },
        "id": "3jjEVHaLbCPx",
        "outputId": "b6146539-9328-4942-aa12-fadc19559de5"
      },
      "execution_count": 28,
      "outputs": [
        {
          "output_type": "execute_result",
          "data": {
            "text/plain": [
              "'hello'"
            ],
            "application/vnd.google.colaboratory.intrinsic+json": {
              "type": "string"
            }
          },
          "metadata": {},
          "execution_count": 28
        }
      ]
    },
    {
      "cell_type": "markdown",
      "source": [
        "##### Q8. What are the values of the following expressions?"
      ],
      "metadata": {
        "id": "aechVOo2bLJR"
      }
    },
    {
      "cell_type": "code",
      "source": [
        "'Remember, remember, the fifth of July'.split()"
      ],
      "metadata": {
        "colab": {
          "base_uri": "https://localhost:8080/"
        },
        "id": "HUgpmBGsbTh8",
        "outputId": "f8bf4857-26e4-4473-bdc1-0c348d2d0479"
      },
      "execution_count": 29,
      "outputs": [
        {
          "output_type": "execute_result",
          "data": {
            "text/plain": [
              "['Remember,', 'remember,', 'the', 'fifth', 'of', 'July']"
            ]
          },
          "metadata": {},
          "execution_count": 29
        }
      ]
    },
    {
      "cell_type": "code",
      "source": [
        "'-'.join('There can only one'.split())"
      ],
      "metadata": {
        "colab": {
          "base_uri": "https://localhost:8080/",
          "height": 35
        },
        "id": "R30uEJBPbjmn",
        "outputId": "28494ff0-8fca-4d9c-cbdb-08668fcb79e7"
      },
      "execution_count": 30,
      "outputs": [
        {
          "output_type": "execute_result",
          "data": {
            "text/plain": [
              "'There-can-only-one'"
            ],
            "application/vnd.google.colaboratory.intrinsic+json": {
              "type": "string"
            }
          },
          "metadata": {},
          "execution_count": 30
        }
      ]
    },
    {
      "cell_type": "markdown",
      "source": [
        "#### Q9. What are the methods for right-justifying, left-justifying, and centering a string?\n",
        "Ans.\n",
        "The rjust(),ljust(),center() string methods, respectively"
      ],
      "metadata": {
        "id": "enMTd2gnb00X"
      }
    },
    {
      "cell_type": "markdown",
      "source": [
        "#### Q10. What is the best way to remove whitespace characters from the start or end?\n",
        "Ans.\n",
        "The lstrip() and rstrip() methods remove whitesapce characters from the left and right ends of a string respectively"
      ],
      "metadata": {
        "id": "_KoX9AJtcHup"
      }
    }
  ]
}