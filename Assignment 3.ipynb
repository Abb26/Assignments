{
 "cells": [
  {
   "cell_type": "markdown",
   "metadata": {},
   "source": [
    "#### Q1. Why are functions advantageous to have in your programs?\n",
    "\n",
    "ANs.\n",
    "Functions enable reuse of code, improve maintainability and scalability.\n",
    "\n",
    "How would we feel if each time you came home, our house was gone and  had to build a new one?\n",
    "\n",
    "Just as a house, a function is reusable. It saves day by having a single solution for a repeating problem so we don’t have to do the same work over and over again."
   ]
  },
  {
   "cell_type": "markdown",
   "metadata": {},
   "source": [
    "#### Q2. When does the code in a function run: when it's specified or when it's called?\n",
    "\n",
    "Ans.\n",
    "The Code in a function runs when it's called.\n"
   ]
  },
  {
   "cell_type": "markdown",
   "metadata": {},
   "source": [
    "#### Q3. What statement creates a function?\n",
    "\n",
    "Ans.\n",
    "Def statement creates a function"
   ]
  },
  {
   "cell_type": "markdown",
   "metadata": {},
   "source": [
    "#### Q4. What is the difference between a function and a function call?\n",
    "\n",
    "Ans.\n",
    "A function is a block of code that does a particular operation and returns a result. It usually accepts inputs as parameters and returns a result. A function call is the code used to pass control to a function."
   ]
  },
  {
   "cell_type": "code",
   "execution_count": 3,
   "metadata": {},
   "outputs": [],
   "source": [
    "def myfunc():\n",
    "    pass\n",
    "#myfunc calling of func"
   ]
  },
  {
   "cell_type": "markdown",
   "metadata": {},
   "source": [
    "##### Q5. How many global scopes are there in a Python program? How many local scopes?\n",
    "\n",
    "Ans.\n",
    "There's only one global Python scope per program execution. This scope remains in existence until the program terminates \n",
    "Variables that are defined inside a function body have a local scope, This means that local variables can be accessed only inside the function in which they are declared"
   ]
  },
  {
   "cell_type": "markdown",
   "metadata": {},
   "source": [
    "#### Q6. What happens to variables in a local scope when the function call returns?\n",
    "\n",
    "Ans.\n",
    "When the execution of the function terminates (returns), the local variables are destroyed."
   ]
  },
  {
   "cell_type": "markdown",
   "metadata": {},
   "source": [
    "#### Q7. What is the concept of a return value? Is it possible to have a return value in an expression?\n",
    "\n",
    "Ans.\n",
    "A return is a value that a function returns to the function when it completes its task. Return value can be used as part of expression"
   ]
  },
  {
   "cell_type": "markdown",
   "metadata": {},
   "source": [
    "#### Q8. If a function does not have a return statement, what is the return value of a call to that function?\n",
    "\n",
    "Ans.\n",
    "If no return statement appears in a function definition, control automatically returns to the calling function after the last statement of the called function is executed. In this case, the return value of the called function is undefined.\n"
   ]
  },
  {
   "cell_type": "markdown",
   "metadata": {},
   "source": [
    "#### Q9. How do you make a function variable refer to the global variable?\n",
    "\n",
    "Ans.\n",
    "If you want to refer to a global variable in a function, you can use the global keyword to declare which variables are global"
   ]
  },
  {
   "cell_type": "markdown",
   "metadata": {},
   "source": [
    "#### Q10. What is the data type of None?\n",
    "\n",
    "Ans.\n",
    "Data type of None is Nonetype"
   ]
  },
  {
   "cell_type": "markdown",
   "metadata": {},
   "source": [
    "#### Q11. What does the sentence import areallyourpetsnamederic do?\n",
    "\n",
    "Ans.\n",
    "That import statement imports a module named areallyourpetsnamederic. (But a module of this name doesnt exists in Python)"
   ]
  },
  {
   "cell_type": "markdown",
   "metadata": {},
   "source": [
    "#### Q12. If you had a bacon() feature in a spam module, what would you call it after importing spam?\n",
    "\n",
    "Ans.\n",
    "import spam\n",
    "\n",
    "spam.bacon()"
   ]
  },
  {
   "cell_type": "markdown",
   "metadata": {},
   "source": [
    "#### Q13. What can you do to save a programme from crashing if it encounters an error?\n",
    "\n",
    "Ans.\n",
    "When it encounters an error, the control is passed to the except block, skipping the code in between. We can use try except block to encounter an error"
   ]
  },
  {
   "cell_type": "markdown",
   "metadata": {},
   "source": [
    "#### Q14. What is the purpose of the try clause? What is the purpose of the except clause?\n",
    "\n",
    "Ans.\n",
    "The try block lets you test a block of code for errors. The except block lets you handle the error."
   ]
  },
  {
   "cell_type": "code",
   "execution_count": null,
   "metadata": {},
   "outputs": [],
   "source": []
  }
 ],
 "metadata": {
  "kernelspec": {
   "display_name": "Python 3",
   "language": "python",
   "name": "python3"
  },
  "language_info": {
   "codemirror_mode": {
    "name": "ipython",
    "version": 3
   },
   "file_extension": ".py",
   "mimetype": "text/x-python",
   "name": "python",
   "nbconvert_exporter": "python",
   "pygments_lexer": "ipython3",
   "version": "3.7.6"
  }
 },
 "nbformat": 4,
 "nbformat_minor": 4
}
